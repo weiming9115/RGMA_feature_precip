{
 "cells": [
  {
   "cell_type": "code",
   "execution_count": 1,
   "id": "3ae9c533",
   "metadata": {},
   "outputs": [],
   "source": [
    "import sys\n",
    "import os\n",
    "from pathlib import Path\n",
    "import numpy as np\n",
    "import xarray as xr\n",
    "from matplotlib import pyplot as plt\n",
    "import matplotlib.patches as patches\n",
    "import matplotlib.font_manager\n",
    "from datetime import datetime, timedelta\n",
    "from glob import glob\n",
    "import matplotlib.ticker as mticker\n",
    "import pandas as pd\n",
    "import h5py\n",
    "\n",
    "import cartopy.crs as ccrs\n",
    "import cartopy.feature as cfeat\n",
    "from cartopy.util import add_cyclic_point\n",
    "from cartopy.mpl.gridliner import LONGITUDE_FORMATTER, LATITUDE_FORMATTER\n",
    "\n",
    "import warnings"
   ]
  },
  {
   "cell_type": "code",
   "execution_count": 2,
   "id": "d2be4ff5",
   "metadata": {},
   "outputs": [],
   "source": [
    "RGMA_DIR = Path('/neelin2020/RGMA_feature_mask')\n",
    "GPM_DIR = Path('/neelin2020/IMERG_V06/')\n",
    "OUT_DIR = RGMA_DIR / 'GPM_ncfiles_2017'\n",
    "if OUT_DIR.exists() == False:\n",
    "    os.system('mkdir -p {}'.format(OUT_DIR))    "
   ]
  },
  {
   "cell_type": "code",
   "execution_count": 5,
   "id": "ad9c3cb1",
   "metadata": {},
   "outputs": [],
   "source": [
    "date_range = pd.date_range(datetime(2017,1,1,0), datetime(2017,12,31,23), freq='1H')"
   ]
  },
  {
   "cell_type": "code",
   "execution_count": null,
   "id": "05327d94",
   "metadata": {},
   "outputs": [],
   "source": [
    "%%time\n",
    "# retrieve GPM-IMERGE from HDF and save into netcdf\n",
    "\n",
    "precip_xr_list_Jan = []\n",
    "\n",
    "for datetime_sel in date_range_Jan:\n",
    "\n",
    "    data_dir = Path(GPM_DIR / '{}/{}'.format(datetime_sel.year, str(datetime_sel.month).zfill(2)))\n",
    "    date_str = datetime_sel.strftime('%Y%m%d') # e.g., 20140101\n",
    "    time_str = datetime_sel.time().strftime('%H%M') # e.g., 0030\n",
    "\n",
    "    # get file id\n",
    "    file_id = list(data_dir.glob('3B-HHR.MS.MRG.3IMERG.{}-S{}00*'.format(date_str, time_str)))[0]\n",
    "    data = h5py.File(file_id)\n",
    "\n",
    "    lat = data['Grid']['lat'][:]\n",
    "    lon = data['Grid']['lon'][:]\n",
    "    precip = data['Grid']['precipitationCal'][0,:,:] # get numpy array\n",
    "    precip_3d = precip.reshape((1, precip.shape[0], precip.shape[1]))\n",
    "    time_stamp = np.datetime64(int(data['Grid']['time'][:][0].astype('int64')), 's')\n",
    "\n",
    "    precip_xr = xr.Dataset(data_vars=dict(precipitationCal=(['time','lon','lat'], precip_3d, {'long_name': 'precipitationCal', 'unit': 'mm/h'})\n",
    "                                     ),\n",
    "                       coords=dict(time=(['time'], [time_stamp]),\n",
    "                                   lat=(['lat'], lat , {'long_name': 'latitude', 'unit': 'degree'}),\n",
    "                                   lon=(['lon'], lon , {'long_name': 'longitude', 'unit': 'degree'})\n",
    "                                     ),\n",
    "                      )\n",
    "\n",
    "    # selecting areas\n",
    "    precip_valid = precip_xr.where(precip_xr.precipitationCal >= 0) # replace -9999 by np.nan\n",
    "    \n",
    "    precip_valid.to_netcdf(OUT_DIR / 'GPM_IMERGE_V06_{}{}{}_{}00.nc'.format(datetime_sel.year, str(datetime_sel.month).zfill(2),\n",
    "                                                                          str(datetime_sel.day).zfill(2), str(datetime_sel.hour).zfill(2)))"
   ]
  },
  {
   "cell_type": "code",
   "execution_count": null,
   "id": "a813e1e9",
   "metadata": {},
   "outputs": [],
   "source": []
  },
  {
   "cell_type": "code",
   "execution_count": null,
   "id": "db5654d9",
   "metadata": {},
   "outputs": [],
   "source": []
  }
 ],
 "metadata": {
  "kernelspec": {
   "display_name": "Python 3 (ipykernel)",
   "language": "python",
   "name": "python3"
  },
  "language_info": {
   "codemirror_mode": {
    "name": "ipython",
    "version": 3
   },
   "file_extension": ".py",
   "mimetype": "text/x-python",
   "name": "python",
   "nbconvert_exporter": "python",
   "pygments_lexer": "ipython3",
   "version": "3.9.17"
  }
 },
 "nbformat": 4,
 "nbformat_minor": 5
}
