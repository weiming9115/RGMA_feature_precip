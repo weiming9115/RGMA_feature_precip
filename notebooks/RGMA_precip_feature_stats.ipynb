{
 "cells": [
  {
   "cell_type": "markdown",
   "id": "b7145e31",
   "metadata": {},
   "source": [
    "### RGMA GPM + feature labels product\n",
    "- some example figures demosntrating the overlapping rainfall from multiple features\n",
    "- associated statistics"
   ]
  },
  {
   "cell_type": "code",
   "execution_count": 1,
   "id": "5f76de8a",
   "metadata": {},
   "outputs": [],
   "source": [
    "import os\n",
    "import sys\n",
    "import xarray as xr\n",
    "import numpy as np\n",
    "import pandas as pd\n",
    "from matplotlib import pyplot as plt\n",
    "from matplotlib.colors import ListedColormap, LinearSegmentedColormap\n",
    "from datetime import datetime\n",
    "from pathlib import Path\n",
    "from itertools import combinations\n",
    "\n",
    "import cartopy.crs as ccrs\n",
    "import cartopy.feature as cfeat\n",
    "from cartopy.util import add_cyclic_point\n",
    "from cartopy.mpl.gridliner import LONGITUDE_FORMATTER, LATITUDE_FORMATTER\n",
    "\n",
    "import warnings"
   ]
  },
  {
   "cell_type": "code",
   "execution_count": 2,
   "id": "85ab5f35",
   "metadata": {},
   "outputs": [],
   "source": [
    "warnings.filterwarnings('ignore')"
   ]
  },
  {
   "cell_type": "code",
   "execution_count": 3,
   "id": "eb51c21c",
   "metadata": {},
   "outputs": [],
   "source": [
    "RGMA_DIR = Path('/neelin2020/RGMA_feature_mask/data_product/2017/MERGED_FP')\n",
    "MERGE_DIR = Path('/neelin2020/RGMA_feature_mask/MERGE-IR/2017/')"
   ]
  },
  {
   "cell_type": "code",
   "execution_count": 4,
   "id": "d1680220",
   "metadata": {},
   "outputs": [],
   "source": [
    "def coordinates_processors(data):\n",
    "    \"\"\"\n",
    "    converting longitude/latitude into lon/lat\n",
    "    data: xarray.dataset coordinated horizontally in lat/lon\n",
    "    \"\"\"\n",
    "\n",
    "    coord_names = []\n",
    "    for coord_name in data.coords:\n",
    "        coord_names.append(coord_name)\n",
    "\n",
    "    if (set(coord_names) & set(['lon','lat'])): # if coordinates set this way...\n",
    "\n",
    "        data2 = data.rename({'lat': 'latitude'})\n",
    "        data2 = data2.rename({'lon': 'longitude'})\n",
    "\n",
    "    else:\n",
    "        data2 = data\n",
    "\n",
    "    # check if lon from -180\n",
    "    if data2.longitude[0] != 0: # -180 to 180\n",
    "\n",
    "        lon_reset = data2.longitude\n",
    "        lon_reset = lon_reset.where(lon_reset > 0, 360+lon_reset) # converting lon as 0 to 359.75\n",
    "        data2.coords['longitude'] = lon_reset # converting lon as -180 to 180\n",
    "        data2= data2.sortby('longitude')\n",
    "\n",
    "    # check if latitutde is decreasing\n",
    "    if (data2.latitude[1] - data2.latitude[0]) < 0:\n",
    "        data2 = data2.isel(latitude=slice(None, None, -1)) # flipping latitude accoordingly\n",
    "\n",
    "    return data2"
   ]
  },
  {
   "cell_type": "markdown",
   "id": "6caebe99",
   "metadata": {},
   "source": [
    "### Stats from here: some test for feature-associated extractioon \n",
    "\n"
   ]
  },
  {
   "cell_type": "code",
   "execution_count": 5,
   "id": "1f190ac3",
   "metadata": {
    "scrolled": false
   },
   "outputs": [],
   "source": [
    "files = sorted(list(RGMA_DIR.glob('*_expand.nc')))\n",
    "data_FP_merged = xr.open_mfdataset(files, engine='netcdf4')"
   ]
  },
  {
   "cell_type": "code",
   "execution_count": 6,
   "id": "f3d6eb0a",
   "metadata": {},
   "outputs": [],
   "source": [
    "data_FP_merged['tags_sum'] = (data_FP_merged.ar_tag + data_FP_merged.mcs_tag \n",
    "                            + data_FP_merged.lps_tag + data_FP_merged.front_c_tag \n",
    "                            + data_FP_merged.front_w_tag + data_FP_merged.front_s_tag)\n",
    "data_FP_merged = data_FP_merged.sel(latitude=slice(-60,60), longitude=slice(0,359.75))"
   ]
  },
  {
   "cell_type": "code",
   "execution_count": 7,
   "id": "4fdd1804",
   "metadata": {},
   "outputs": [],
   "source": [
    "# assign one tag for all fronts for simplicity: front_a_tag\n",
    "tmp = data_FP_merged['front_c_tag'] + data_FP_merged['front_w_tag'] + data_FP_merged['front_s_tag']\n",
    "tmp = tmp.where(tmp == 0, 1)\n",
    "data_FP_merged['front_a_tag'] = tmp"
   ]
  },
  {
   "cell_type": "code",
   "execution_count": 8,
   "id": "0edf8b44",
   "metadata": {},
   "outputs": [],
   "source": [
    "# generate all the combinations of 4 feature cateogries (AR, front, MCS, LPS)\n",
    "tag_labels = ['ar_tag','front_a_tag','mcs_tag','lps_tag']\n",
    "\n",
    "list_of_comb = []\n",
    "for i in range(1,5): # c41 c42 c43 c44\n",
    "    tmp = list(combinations(tag_labels, i))\n",
    "    for j in tmp:\n",
    "        list_of_comb.append(j)"
   ]
  },
  {
   "cell_type": "code",
   "execution_count": 9,
   "id": "6352aefa",
   "metadata": {},
   "outputs": [],
   "source": [
    "def generate_FP_data(data_FP_merged, tag_binary_labels):\n",
    "    \"\"\"tag_labels: [list of binary labels] features that users are interested. \n",
    "       order: ar_tag, front_a_tag, lps_tag, mcs_tag. \n",
    "       usage: [1,0,0,1] for AR-MCS cooccurrence\n",
    "    \"\"\"\n",
    "    \n",
    "    if sum(tag_binary_labels) == 1: # one feature identified, extract the areas of precipitation that may include other features\n",
    "        \n",
    "        idx = np.where(np.asarray(tag_binary_labels) == 1)[0][0] \n",
    "        if idx == 0:\n",
    "            precip_FP_selected = data_FP_merged.precipitationCal.where(data_FP_merged.ar_tag == 1)\n",
    "        if idx == 1:\n",
    "            precip_FP_selected = data_FP_merged.precipitationCal.where(data_FP_merged.front_a_tag == 1)\n",
    "        if idx == 2:\n",
    "            precip_FP_selected = data_FP_merged.precipitationCal.where(data_FP_merged.lps_tag == 1)\n",
    "        if idx == 3:\n",
    "            precip_FP_selected = data_FP_merged.precipitationCal.where(data_FP_merged.mcs_tag == 1)\n",
    "    \n",
    "    else: # if overlapping exists, extract the overlapped areas of precipitation\n",
    "\n",
    "        precip_FP_selected = data_FP_merged.precipitationCal.where((data_FP_merged.ar_tag == tag_binary_labels[0]) &\n",
    "                                                  (data_FP_merged.front_a_tag == tag_binary_labels[1]) &\n",
    "                                                  (data_FP_merged.lps_tag == tag_binary_labels[2]) &\n",
    "                                                  (data_FP_merged.mcs_tag == tag_binary_labels[3]))\n",
    "    \n",
    "    return precip_FP_selected"
   ]
  },
  {
   "cell_type": "code",
   "execution_count": 10,
   "id": "889f3755",
   "metadata": {},
   "outputs": [],
   "source": [
    "# starting with [0, 0, 0, 0] and replaced by 1 if corresponding features are selected\n",
    "\n",
    "output_list = [] # list of datasets representing different feature selections\n",
    "\n",
    "for selected_tags in list_of_comb:\n",
    "    #selected_tags = ['mcs_tag', 'ar_tag']\n",
    "    tag_binary_labels = [0,0,0,0]\n",
    "    for i in selected_tags:\n",
    "        if i == 'ar_tag':\n",
    "            tag_binary_labels[0] = 1\n",
    "        if i == 'front_a_tag':\n",
    "            tag_binary_labels[1] = 1   \n",
    "        if i == 'lps_tag':\n",
    "            tag_binary_labels[2] = 1\n",
    "        if i == 'mcs_tag':\n",
    "            tag_binary_labels[3] = 1\n",
    "\n",
    "    output_list.append(generate_FP_data(data_FP_merged, tag_binary_labels))"
   ]
  },
  {
   "cell_type": "code",
   "execution_count": 11,
   "id": "d4737385",
   "metadata": {},
   "outputs": [],
   "source": [
    "prec_tot = (data_FP_merged.precipitationCal.sum('time')).fillna(0)"
   ]
  },
  {
   "cell_type": "markdown",
   "id": "10241f91",
   "metadata": {},
   "source": [
    "### one feature-associated preciptation showcase in the output_list: MCS-AR"
   ]
  },
  {
   "cell_type": "code",
   "execution_count": null,
   "id": "2a305135",
   "metadata": {},
   "outputs": [],
   "source": [
    "prec_contr_MCS_AR = (output_list[5].sum('time')).fillna(0) # by looking up the list_of_comb"
   ]
  },
  {
   "cell_type": "code",
   "execution_count": null,
   "id": "34bbe890",
   "metadata": {},
   "outputs": [],
   "source": [
    "fig, ax = plt.subplots(1,1,figsize=(10,4),subplot_kw={'projection': ccrs.PlateCarree()})\n",
    "ax.coastlines(color='gray')\n",
    "ax.add_feature(cfeat.LAND,zorder=1,edgecolor='gray',facecolor='w') # maskout LAND\n",
    "\n",
    "cf = ax.contourf(prec_contr_MCS_AR.longitude, prec_contr_MCS_AR.latitude, prec_contr_MCS_AR, levels=np.linspace(0,50,11), transfrom=ccrs.PlateCarree())\n",
    "cbar = plt.colorbar(cf, ax=ax, shrink=0.6, pad=0.01)\n",
    "cbar.set_label('rainfall sum [mm/hr]')\n",
    "\n",
    "gl = ax.gridlines(crs=ccrs.PlateCarree(), draw_labels=True,\n",
    "                  linewidth=1, color='gray', alpha=0.4, linestyle=':')\n",
    "gl.xlabels_top = False\n",
    "gl.ylabels_right = False\n",
    "gl.xformatter = LONGITUDE_FORMATTER\n",
    "gl.yformatter = LATITUDE_FORMATTER"
   ]
  },
  {
   "cell_type": "code",
   "execution_count": null,
   "id": "8b0643b0",
   "metadata": {},
   "outputs": [],
   "source": [
    "%%time\n",
    "fig, ax = plt.subplots(1,1,figsize=(10,4),subplot_kw={'projection': ccrs.PlateCarree()})\n",
    "ax.coastlines(color='gray')\n",
    "ax.add_feature(cfeat.LAND,zorder=1,edgecolor='gray',facecolor='w') # maskout LAND\n",
    "\n",
    "cf = ax.contourf(prec_contr_MCS_AR.longitude, prec_contr_MCS_AR.latitude, prec_tot, levels=np.linspace(0,1000,21)\n",
    "                 , transfrom=ccrs.PlateCarree(), extend='both', cmap='terrain_r')\n",
    "cbar = plt.colorbar(cf, ax=ax, shrink=0.6, pad=0.01)\n",
    "cbar.cmap.set_under('w')\n",
    "cbar.cmap.set_over('b')\n",
    "cbar.set_label('rainfall sum [mm/hr]')\n",
    "\n",
    "gl = ax.gridlines(crs=ccrs.PlateCarree(), draw_labels=True,\n",
    "                  linewidth=1, color='k', alpha=0.4, linestyle=':')\n",
    "gl.xlabels_top = False\n",
    "gl.ylabels_right = False\n",
    "gl.xformatter = LONGITUDE_FORMATTER\n",
    "gl.yformatter = LATITUDE_FORMATTER\n",
    "\n",
    "ax.set_title('Total precipitation (sum of 6-hrly rainrate), 2017')"
   ]
  },
  {
   "cell_type": "code",
   "execution_count": null,
   "id": "c0de4ee5",
   "metadata": {},
   "outputs": [],
   "source": [
    "# adding unexplained precipitation for plotting\n",
    "output_unexplained = generate_FP_data(data_FP_merged, tag_binary_labels=[0,0,0,0])"
   ]
  },
  {
   "cell_type": "code",
   "execution_count": null,
   "id": "4db0dfa0",
   "metadata": {},
   "outputs": [],
   "source": [
    "list_of_data = [data_FP_merged.precipitationCal] + output_list + [output_unexplained]\n",
    "list_of_label = [('total',)] + list_of_comb + [('unexplained',)]"
   ]
  },
  {
   "cell_type": "code",
   "execution_count": null,
   "id": "88061f1e",
   "metadata": {},
   "outputs": [],
   "source": [
    "fig, ax = plt.subplots(6,3,figsize=(10,10),subplot_kw={'projection': ccrs.PlateCarree(central_longitude=0)})\n",
    "\n",
    "ncol = [0,1,2,3,4,5,0,1,2,3,4,5,0,1,2,3,4,5]\n",
    "nrow = [0,0,0,0,0,0,1,1,1,1,1,1,2,2,2,2,2,2]\n",
    "clevels = np.linspace(0,1200,13)\n",
    "\n",
    "for n, (p_data, p_label) in enumerate(zip(list_of_data, list_of_label)):\n",
    "    \n",
    "    ax[ncol[n],nrow[n]].coastlines(color='gray')\n",
    "    ax[ncol[n],nrow[n]].add_feature(cfeat.LAND,zorder=1,edgecolor='gray',facecolor='w') # maskout LAND\n",
    "    \n",
    "    cf = ax[ncol[n],nrow[n]].contourf(p_data.longitude, p_data.latitude, p_data.sum('time').fillna(0), \n",
    "                                 levels = clevels, cmap='jet', transform=ccrs.PlateCarree())\n",
    "    cbar = plt.colorbar(cf, ax=ax[ncol[n], nrow[n]], shrink=0.6, pad=0.01)\n",
    "    \n",
    "    gl = ax[ncol[n], nrow[n]].gridlines(crs=ccrs.PlateCarree(), draw_labels=True,\n",
    "                      linewidth=1, color='gray', alpha=0.4, linestyle=':')\n",
    "    gl.xlabels_top = False\n",
    "    gl.ylabels_right = False\n",
    "    gl.xformatter = LONGITUDE_FORMATTER\n",
    "    gl.yformatter = LATITUDE_FORMATTER\n",
    "\n",
    "    ax[ncol[n], nrow[n]].set_title('{}'.format(p_label),\n",
    "                fontsize=11)\n",
    "plt.suptitle('Feature-associated precipitation, 2017', fontsize=11)\n",
    "plt.tight_layout()"
   ]
  },
  {
   "cell_type": "markdown",
   "id": "a54cccb9",
   "metadata": {},
   "source": [
    "###  statistics from the precipitation contribution"
   ]
  },
  {
   "cell_type": "code",
   "execution_count": 16,
   "id": "8d5d4510",
   "metadata": {},
   "outputs": [],
   "source": [
    "files = sorted(list(RGMA_DIR.glob('*_convmask.nc')))\n",
    "Feature_comb_xr = xr.open_mfdataset(files)"
   ]
  },
  {
   "cell_type": "code",
   "execution_count": 17,
   "id": "248e3bfe",
   "metadata": {},
   "outputs": [],
   "source": [
    "FID_label = ['AR','FT','MCS','LPS','AF','AM','AL','FM','FL','ML','AFM','AFL','AML','FML','All','UE']"
   ]
  },
  {
   "cell_type": "code",
   "execution_count": 20,
   "id": "5b6be421",
   "metadata": {},
   "outputs": [],
   "source": [
    "### regional contribution of rainfall from features\n",
    "### regional feature occurrence in each month\n",
    "\n",
    "def regional_feature_occurrence(lon_bounds, lat_bounds, area_name):\n",
    "    \n",
    "    # region to be analyzed\n",
    "    prec_sub = data_FP_merged['precipitationCal'].sel(longitude=slice(lon_bounds[0], lon_bounds[1])\n",
    "                                , latitude=slice(lat_bounds[0], lat_bounds[1])) \n",
    "    Feat_ind_sub = Feature_comb_xr['feat_comb_label'].sel(longitude=slice(lon_bounds[0], lon_bounds[1])\n",
    "                                , latitude=slice(lat_bounds[0], lat_bounds[1])) \n",
    "    \n",
    "    # empty arrays: population, rainfall contribution \n",
    "    prec_assocaite_time = []\n",
    "    prec_contr_time = []\n",
    "    \n",
    "    for t in range(len(prec_sub.time)):\n",
    "        prec_associate = np.zeros(16) # percentage of representative of each feature indicator \n",
    "        prec_sum = np.zeros(16) # rainfall contribution from each feature indicator\n",
    "    \n",
    "        tmp = prec_sub.isel(time=t)\n",
    "        tmp2 = Feat_ind_sub.isel(time=t)\n",
    "        \n",
    "        Feat_ind_1d = tmp2.values.ravel()\n",
    "        prec_1d = tmp.values.ravel()\n",
    "        for idx in range(len(Feat_ind_1d)):\n",
    "            label_ind = Feat_ind_1d[idx]\n",
    "            \n",
    "            prec_associate[label_ind-1] += 1\n",
    "            prec_sum[label_ind-1] += prec_1d[idx]\n",
    "        \n",
    "        prec_assocaite_time.append(prec_associate/np.sum(prec_associate)) \n",
    "        prec_contr_time.append(prec_sum/np.sum(prec_sum))\n",
    "    \n",
    "    data_xr = xr.Dataset(data_vars=dict(indicator_percentage=(['time', 'feature_indicator'], np.asarray(prec_assocaite_time)),\n",
    "                                        rainfall_percentage=(['time', 'feature_indicator'], np.asarray(prec_contr_time)),\n",
    "                                        prec_area_mn=(['time'], prec_sub.mean(dim=('longitude','latitude')).values)),\n",
    "                         coords=dict(time=(['time'],prec_sub.time.values),\n",
    "                                     feature_indicator=(['feature_indicator'], np.arange(1,17)),\n",
    "                                     area=area_name),\n",
    "                         attrs=dict(description='regional rainfall contribution from each feature indcator.')\n",
    "                        )\n",
    "    \n",
    "    return data_xr\n",
    "        "
   ]
  },
  {
   "cell_type": "code",
   "execution_count": 21,
   "id": "ef693b44",
   "metadata": {},
   "outputs": [],
   "source": [
    "def extreme_precip_association(lon_bounds, lat_bounds, area_name):\n",
    "    \n",
    "    # extreme 99 percentile\n",
    "    prec_sub = data_FP_merged['precipitationCal'].sel(longitude=slice(lon_bounds[0], lon_bounds[1])\n",
    "                                , latitude=slice(lat_bounds[0], lat_bounds[1])) \n",
    "    Feat_ind_sub = Feature_comb_xr['feat_comb_label'].sel(longitude=slice(lon_bounds[0], lon_bounds[1])\n",
    "                                , latitude=slice(lat_bounds[0], lat_bounds[1])) \n",
    "    \n",
    "    \n",
    "    # find the 99th rainfall extreme\n",
    "    prec_99th_threshold = np.zeros((prec_sub.shape[1],prec_sub.shape[2]))\n",
    "    \n",
    "    for j in range(len(prec_sub.latitude)):\n",
    "        for i in range(len(prec_sub.longitude)):\n",
    "            prec_gpt = prec_sub.isel(longitude=i, latitude=j).compute()\n",
    "            prec_gpt = prec_gpt.where(prec_gpt >0, np.nan) # discard non-raining sampling\n",
    "            prec_99th_threshold[j,i] = prec_gpt.quantile(q=0.99, dim='time').values\n",
    "    \n",
    "    Feat_ind_99th_array = np.zeros((prec_sub.shape[1],prec_sub.shape[2],16)) # (lat,lon,FID)\n",
    "    # find the corresponding feature indicator\n",
    "    for j in range(len(prec_sub.latitude)):\n",
    "        for i in range(len(prec_sub.longitude)):\n",
    "            prec_gpt = prec_sub.isel(longitude=i, latitude=j).compute()\n",
    "            Feat_ind_gpt = Feat_ind_sub.isel(longitude=i, latitude=j).compute()\n",
    "        \n",
    "            idx_t = np.where(prec_gpt.values > prec_99th_threshold[j,i])[0]\n",
    "            Feat_list = Feat_ind_gpt.isel(time=idx_t)\n",
    "            \n",
    "            Feat_ind_99th = np.zeros(16)\n",
    "            for fid in Feat_list:\n",
    "                Feat_ind_99th[fid-1] += 1\n",
    "                \n",
    "            Feat_ind_99th_array[j,i,:] = Feat_ind_99th/np.sum(Feat_ind_99th) # percentage\n",
    "           \n",
    "        \n",
    "    Feat_ind_99th_xr = xr.Dataset(data_vars=dict(FID_p99th=(['latitude','longitude','feature_indicator'],\n",
    "                                                               Feat_ind_99th_array),\n",
    "                                                 p99th=(['latitude','longitude'], prec_99th_threshold, {'unit':'mm/hr'})),\n",
    "                                  coords=dict(latitude=(['latitude'],prec_sub.latitude.values),\n",
    "                                              longitude=(['longitude'],prec_sub.longitude.values),\n",
    "                                              FID=(['feature_indicator'], np.arange(1,17))),\n",
    "                                  attrs = {'feature indicator': '(1) AR    (2) Front    (3) MCS    (4) LPS    ' + \n",
    "                                     '(5) AR + Front    (6) AR + MCS    (7) AR + LPS    (8) Front + MCS    ' +\n",
    "                                     '(9) Front + LPS    (10) MCS + LPS    (11): AR + Front + MCS    (12) AR + Front + LPS    ' +\n",
    "                                     '(13) AR + MCS + LPS    (14) Front + MCS + LPS    (15): All    (16) Unexplained',\n",
    "                                   \n",
    "                                    'description': 'Feature-assocaited indicator of a raining pixel. Each indicator is mutually exclusive to one another. ' +\n",
    "                                                   'For instance, label 1 is the raining pixel that is associated with AR only and label 5 is the pixel '+ \n",
    "                                                    'where AR and MCS are overlapped.'})\n",
    "    \n",
    "    return Feat_ind_99th_xr          "
   ]
  },
  {
   "cell_type": "code",
   "execution_count": null,
   "id": "f5ffd80c",
   "metadata": {},
   "outputs": [],
   "source": [
    "NE_UScoast = regional_feature_occurrence(lon_bounds=(360-76,360-70), lat_bounds=(35,41), area_name='NE_UScoast')\n",
    "NW_UScoast = regional_feature_occurrence(lon_bounds=(360-125,360-115), lat_bounds=(30,50), area_name='NW_UScoast')\n",
    "Amazon_area = regional_feature_occurrence(lon_bounds=(360-82,360-34), lat_bounds=(-22,12), area_name='Amazon')\n",
    "MT_area = regional_feature_occurrence(lon_bounds=(95,145), lat_bounds=(-10,10), area_name='Maritime_Conti')"
   ]
  },
  {
   "cell_type": "code",
   "execution_count": null,
   "id": "e89e3c02",
   "metadata": {},
   "outputs": [],
   "source": [
    "NE_UScoast_gp_mon = NE_UScoast.groupby('time.month').mean()\n",
    "NW_UScoast_gp_mon = NW_UScoast.groupby('time.month').mean()\n",
    "Amazon_area_gp_mon = Amazon_area.groupby('time.month').mean()\n",
    "MT_area_gp_mon = MT_area.groupby('time.month').mean()"
   ]
  },
  {
   "cell_type": "code",
   "execution_count": null,
   "id": "ed69b5a6",
   "metadata": {},
   "outputs": [],
   "source": [
    "fig,ax = plt.subplots(1,1,figsize=(7,3.5))\n",
    "\n",
    "cmap_label = plt.get_cmap('tab20b', 16)\n",
    "\n",
    "for n, (fid,label) in enumerate(zip(np.arange(1,17),FID_label)):\n",
    "\n",
    "    tmp = NW_UScoast_gp_mon.sel(feature_indicator=fid).rainfall_percentage.to_series()\n",
    "    if n < 4:\n",
    "        ax.plot(np.arange(12),tmp,color=cmap_label.colors[n], marker='^', label=label)\n",
    "    else:\n",
    "        ax.plot(np.arange(12),tmp,color=cmap_label.colors[n], marker='o', label=label)\n",
    "\n",
    "ax.legend(fontsize=8, ncols=5, loc='upper right', frameon=False)\n",
    "ax.set_ylim([-0.01,1])\n",
    "ax.set_ylabel('Monthly rainfall contribution')\n",
    "ax.set_xlabel('')\n",
    "ax.set_xticks(ticks=np.arange(0,12))\n",
    "ax.set_xticklabels(['Jan','Feb','Mar','Apr','May','Jun','Jul','Aug','Sept','Oct','Nov','Dec']);\n",
    "ax.grid(linestyle=':',linewidth=0.5)\n",
    "\n",
    "# add monthly area-averaged precipitation rate \n",
    "ax2 = ax.twinx()\n",
    "tmp2 = NW_UScoast_gp_mon.prec_area_mn.to_series()\n",
    "ax2.bar(np.arange(0,12), 24*tmp2, alpha=0.2)\n",
    "ax2.set_ylabel('Area-mean rainrate (mm d$^{-1}$)')\n",
    "ax2.set_ylim([0,15])\n",
    "\n",
    "# add title\n",
    "ax.set_title(str(NW_UScoast_gp_mon.area.values) + '\\n' + \n",
    "             '(125W,115W,30N,50N)', fontsize=11);        "
   ]
  },
  {
   "cell_type": "code",
   "execution_count": null,
   "id": "c89bd2e5",
   "metadata": {},
   "outputs": [],
   "source": [
    "fig,ax = plt.subplots(1,1,figsize=(7,3.5))\n",
    "\n",
    "cmap_label = plt.get_cmap('tab20b', 16)\n",
    "\n",
    "for n, (fid,label) in enumerate(zip(np.arange(1,17),FID_label)):\n",
    "\n",
    "    tmp = NE_UScoast_gp_mon.sel(feature_indicator=fid).rainfall_percentage.to_series()\n",
    "    if n < 4:\n",
    "        ax.plot(np.arange(12),tmp,color=cmap_label.colors[n], marker='^', label=label)\n",
    "    else:\n",
    "        ax.plot(np.arange(12),tmp,color=cmap_label.colors[n], marker='o', label=label)\n",
    "\n",
    "ax.legend(fontsize=8, ncols=5, loc='upper right', frameon=False)\n",
    "ax.set_ylim([-0.01,1])\n",
    "ax.set_ylabel('Monthly rainfall contribution')\n",
    "ax.set_xlabel('')\n",
    "ax.set_xticks(ticks=np.arange(0,12))\n",
    "ax.set_xticklabels(['Jan','Feb','Mar','Apr','May','Jun','Jul','Aug','Sept','Oct','Nov','Dec']);\n",
    "ax.grid(linestyle=':',linewidth=0.5)\n",
    "\n",
    "# add monthly area-averaged precipitation rate \n",
    "ax2 = ax.twinx()\n",
    "tmp2 = NE_UScoast_gp_mon.prec_area_mn.to_series()\n",
    "ax2.bar(np.arange(0,12), 24*tmp2, alpha=0.2)\n",
    "ax2.set_ylabel('Area-mean rainrate (mm d$^{-1}$)')\n",
    "ax2.set_ylim([0,15])\n",
    "\n",
    "# add title\n",
    "ax.set_title(str(NE_UScoast_gp_mon.area.values) + '\\n' + \n",
    "             '(76W,70W,35N,41N)', fontsize=11);        "
   ]
  },
  {
   "cell_type": "code",
   "execution_count": null,
   "id": "18ccfafd",
   "metadata": {},
   "outputs": [],
   "source": [
    "fig,ax = plt.subplots(1,1,figsize=(7,3.5))\n",
    "\n",
    "cmap_label = plt.get_cmap('tab20b', 16)\n",
    "\n",
    "for n, (fid,label) in enumerate(zip(np.arange(1,17),FID_label)):\n",
    "\n",
    "    tmp = Amazon_area_gp_mon.sel(feature_indicator=fid).rainfall_percentage.to_series()\n",
    "    if n < 4:\n",
    "        ax.plot(np.arange(12),tmp,color=cmap_label.colors[n], marker='^', label=label)\n",
    "    else:\n",
    "        ax.plot(np.arange(12),tmp,color=cmap_label.colors[n], marker='o', label=label)\n",
    "\n",
    "ax.legend(fontsize=8, ncols=5, loc='upper right', frameon=False)\n",
    "ax.set_ylim([-0.01,1])\n",
    "ax.set_ylabel('Monthly rainfall contribution')\n",
    "ax.set_xlabel('')\n",
    "ax.set_xticks(ticks=np.arange(0,12))\n",
    "ax.set_xticklabels(['Jan','Feb','Mar','Apr','May','Jun','Jul','Aug','Sept','Oct','Nov','Dec']);\n",
    "ax.grid(linestyle=':',linewidth=0.5)\n",
    "\n",
    "# add monthly area-averaged precipitation rate \n",
    "ax2 = ax.twinx()\n",
    "tmp2 = Amazon_area_gp_mon.prec_area_mn.to_series()\n",
    "ax2.bar(np.arange(0,12), 24*tmp2, alpha=0.2)\n",
    "ax2.set_ylabel('Area-mean rainrate (mm d$^{-1}$)')\n",
    "ax2.set_ylim([0,15])\n",
    "\n",
    "# add title\n",
    "ax.set_title(str(Amazon_area_gp_mon.area.values) + '\\n' + \n",
    "             '(82W,34W,22S,12N)', fontsize=11);        "
   ]
  },
  {
   "cell_type": "code",
   "execution_count": null,
   "id": "4d72504c",
   "metadata": {},
   "outputs": [],
   "source": [
    "fig,ax = plt.subplots(1,1,figsize=(7,3.5))\n",
    "\n",
    "cmap_label = plt.get_cmap('tab20b', 16)\n",
    "\n",
    "for n, (fid,label) in enumerate(zip(np.arange(1,17),FID_label)):\n",
    "\n",
    "    tmp = MT_area_gp_mon.sel(feature_indicator=fid).rainfall_percentage.to_series()\n",
    "    if n < 4:\n",
    "        ax.plot(np.arange(12),tmp,color=cmap_label.colors[n], marker='^', label=label)\n",
    "    else:\n",
    "        ax.plot(np.arange(12),tmp,color=cmap_label.colors[n], marker='o', label=label)\n",
    "\n",
    "ax.legend(fontsize=8, ncols=5, loc='upper right', frameon=False)\n",
    "ax.set_ylim([-0.01,1])\n",
    "ax.set_ylabel('Monthly rainfall contribution')\n",
    "ax.set_xlabel('')\n",
    "ax.set_xticks(ticks=np.arange(0,12))\n",
    "ax.set_xticklabels(['Jan','Feb','Mar','Apr','May','Jun','Jul','Aug','Sept','Oct','Nov','Dec']);\n",
    "ax.grid(linestyle=':',linewidth=0.5)\n",
    "\n",
    "# add monthly area-averaged precipitation rate \n",
    "ax2 = ax.twinx()\n",
    "tmp2 = MT_area_gp_mon.prec_area_mn.to_series()\n",
    "ax2.bar(np.arange(0,12), 24*tmp2, alpha=0.2)\n",
    "ax2.set_ylabel('Area-mean rainrate (mm d$^{-1}$)')\n",
    "ax2.set_ylim([0,15])\n",
    "\n",
    "# add title\n",
    "ax.set_title(str(MT_area_gp_mon.area.values) + '\\n' + \n",
    "             '(95E,145E,10S,10N)', fontsize=11);        "
   ]
  },
  {
   "cell_type": "code",
   "execution_count": null,
   "id": "55262437",
   "metadata": {},
   "outputs": [],
   "source": []
  },
  {
   "cell_type": "code",
   "execution_count": null,
   "id": "47e8871e",
   "metadata": {},
   "outputs": [],
   "source": []
  },
  {
   "cell_type": "markdown",
   "id": "8ba4cc13",
   "metadata": {},
   "source": [
    "### which FPID contributes to most extreme precipitation?"
   ]
  },
  {
   "cell_type": "code",
   "execution_count": 30,
   "id": "10cfe9d5",
   "metadata": {},
   "outputs": [
    {
     "name": "stdout",
     "output_type": "stream",
     "text": [
      "CPU times: user 4min 48s, sys: 4min 43s, total: 9min 32s\n",
      "Wall time: 8min 32s\n"
     ]
    }
   ],
   "source": [
    "%%time\n",
    "# extreme precipitation contribution\n",
    "#extreme_NE_UScoast = extreme_precip_association(lon_bounds=(360-80,360-70), lat_bounds=(30,50), area_name='NE_UScoast')\n",
    "extreme_NW_UScoast = extreme_precip_association(lon_bounds=(360-125,360-115), lat_bounds=(30,50), area_name='NW_UScoast')"
   ]
  },
  {
   "cell_type": "code",
   "execution_count": 31,
   "id": "ae185032",
   "metadata": {},
   "outputs": [],
   "source": [
    "cmap_label = plt.get_cmap('tab20b', 16)\n",
    "\n",
    "newcolors = cmap_label(np.linspace(0, 1, 16))\n",
    "blue = np.array([0, 0, 0.8, 1])\n",
    "red = np.array([0.8, 0, 0, 1])\n",
    "green = np.array([0, 0.8, 0, 1])\n",
    "newcolors[1, :] = blue\n",
    "newcolors[3, :] = red\n",
    "newcolors[4, :] = green\n",
    "newcmp = ListedColormap(newcolors)"
   ]
  },
  {
   "cell_type": "code",
   "execution_count": 32,
   "id": "0bfd02e4",
   "metadata": {},
   "outputs": [],
   "source": [
    "FID_maxcontr_map2 = np.zeros((len(extreme_NW_UScoast.latitude), len(extreme_NW_UScoast.longitude)))\n",
    "contr_mark_map2 = np.copy(FID_maxcontr_map2)\n",
    "\n",
    "for i in range(len(extreme_NW_UScoast.latitude)):\n",
    "    for j in range(len(extreme_NW_UScoast.longitude)):\n",
    "\n",
    "        # return the FID that accounts for most extreme precipitation when it occurred\n",
    "        idx = np.argmax(extreme_NW_UScoast.isel(latitude=i, longitude=j).FID_p99th.values)\n",
    "        FID_maxcontr_map2[i,j] = idx+1 # mark FID on the grid point"
   ]
  },
  {
   "cell_type": "code",
   "execution_count": 33,
   "id": "6a96de56",
   "metadata": {},
   "outputs": [
    {
     "data": {
      "text/plain": [
       "Text(0.5, 1.0, 'Feature indicator \\n 99th extreme rainfall')"
      ]
     },
     "execution_count": 33,
     "metadata": {},
     "output_type": "execute_result"
    },
    {
     "data": {
      "image/png": "[encoded data removed]",
      "text/plain": [
       "<Figure size 1000x600 with 2 Axes>"
      ]
     },
     "metadata": {},
     "output_type": "display_data"
    }
   ],
   "source": [
    "fig, ax = plt.subplots(1,1,figsize=(10,6),subplot_kw={'projection': ccrs.PlateCarree()})\n",
    "ax.coastlines(color='k')\n",
    "ax.add_feature(cfeat.STATES,edgecolor='k',linewidth=0.5)\n",
    "ax.add_feature(cfeat.LAND,zorder=1,edgecolor='gray',facecolor='w') # maskout LAND\n",
    "\n",
    "cf = ax.pcolormesh(extreme_NW_UScoast.longitude, extreme_NW_UScoast.latitude\n",
    "                 , FID_maxcontr_map2, vmin=1, vmax=17, cmap=newcmp)\n",
    "cbar = plt.colorbar(cf, ax=ax, shrink=0.6, pad=0.01)\n",
    "cbar.set_label('feature indicator')\n",
    "cbar.set_ticks(np.arange(1.5,17.5,1))\n",
    "cbar.set_ticklabels(FID_label)\n",
    "\n",
    "gl = ax.gridlines(crs=ccrs.PlateCarree(), draw_labels=True,\n",
    "                  linewidth=1, color='grey', alpha=0.4, linestyle=':')\n",
    "gl.xlabels_top = False\n",
    "gl.ylabels_right = False\n",
    "gl.xformatter = LONGITUDE_FORMATTER\n",
    "gl.yformatter = LATITUDE_FORMATTER\n",
    "\n",
    "ax.set_title('Feature indicator \\n 99th extreme rainfall',fontsize=10)"
   ]
  },
  {
   "cell_type": "code",
   "execution_count": 34,
   "id": "3d2dc67b",
   "metadata": {},
   "outputs": [
    {
     "name": "stdout",
     "output_type": "stream",
     "text": [
      "CPU times: user 9min 37s, sys: 9min 16s, total: 18min 53s\n",
      "Wall time: 16min 51s\n"
     ]
    }
   ],
   "source": [
    "%%time\n",
    "# extreme precipitation contribution\n",
    "#extreme_NE_UScoast = extreme_precip_association(lon_bounds=(360-80,360-70), lat_bounds=(30,50), area_name='NE_UScoast')\n",
    "extreme_midlat = extreme_precip_association(lon_bounds=(360-145,360-125), lat_bounds=(30,50), area_name='NW_UScoast')"
   ]
  },
  {
   "cell_type": "code",
   "execution_count": 35,
   "id": "2e5813db",
   "metadata": {},
   "outputs": [],
   "source": [
    "FID_maxcontr_map = np.zeros((len(extreme_midlat.latitude), len(extreme_midlat.longitude)))\n",
    "contr_mark_map = np.copy(FID_maxcontr_map)\n",
    "\n",
    "for i in range(len(extreme_midlat.latitude)):\n",
    "    for j in range(len(extreme_midlat.longitude)):\n",
    "\n",
    "        # return the FID that accounts for most extreme precipitation when it occurred\n",
    "        idx = np.argmax(extreme_midlat.isel(latitude=i, longitude=j).FID_p99th.values)\n",
    "        FID_maxcontr_map[i,j] = idx+1 # mark FID on the grid point"
   ]
  },
  {
   "cell_type": "code",
   "execution_count": 36,
   "id": "7faa409d",
   "metadata": {},
   "outputs": [
    {
     "data": {
      "text/plain": [
       "Text(0.5, 1.0, 'Feature indicator \\n 99th extreme rainfall')"
      ]
     },
     "execution_count": 36,
     "metadata": {},
     "output_type": "execute_result"
    },
    {
     "data": {
      "image/png": "[encoded data removed]",
      "text/plain": [
       "<Figure size 1000x600 with 2 Axes>"
      ]
     },
     "metadata": {},
     "output_type": "display_data"
    }
   ],
   "source": [
    "fig, ax = plt.subplots(1,1,figsize=(10,6),subplot_kw={'projection': ccrs.PlateCarree()})\n",
    "ax.coastlines(color='k')\n",
    "ax.add_feature(cfeat.STATES,edgecolor='k',linewidth=0.5)\n",
    "ax.add_feature(cfeat.LAND,zorder=1,edgecolor='gray',facecolor='w') # maskout LAND\n",
    "\n",
    "cf = ax.pcolormesh(extreme_midlat.longitude, extreme_midlat.latitude\n",
    "                 , FID_maxcontr_map, vmin=1, vmax=17, cmap=newcmp)\n",
    "cbar = plt.colorbar(cf, ax=ax, shrink=0.6, pad=0.01)\n",
    "cbar.set_label('feature indicator')\n",
    "cbar.set_ticks(np.arange(1.5,17.5,1))\n",
    "cbar.set_ticklabels(FID_label)\n",
    "\n",
    "gl = ax.gridlines(crs=ccrs.PlateCarree(), draw_labels=True,\n",
    "                  linewidth=1, color='grey', alpha=0.4, linestyle=':')\n",
    "gl.xlabels_top = False\n",
    "gl.ylabels_right = False\n",
    "gl.xformatter = LONGITUDE_FORMATTER\n",
    "gl.yformatter = LATITUDE_FORMATTER\n",
    "\n",
    "ax.set_title('Feature indicator \\n 99th extreme rainfall',fontsize=10)"
   ]
  },
  {
   "cell_type": "code",
   "execution_count": 37,
   "id": "ed802822",
   "metadata": {
    "scrolled": true
   },
   "outputs": [
    {
     "name": "stdout",
     "output_type": "stream",
     "text": [
      "CPU times: user 40min 2s, sys: 41min 55s, total: 1h 21min 57s\n",
      "Wall time: 1h 14min 58s\n"
     ]
    }
   ],
   "source": [
    "%%time\n",
    "extreme_Amazon = extreme_precip_association(lon_bounds=(360-82,360-34), lat_bounds=(-22,12), area_name='Amazon')"
   ]
  },
  {
   "cell_type": "code",
   "execution_count": null,
   "id": "5aeb0abd",
   "metadata": {},
   "outputs": [],
   "source": [
    "FID_maxcontr_map3 = np.zeros((len(extreme_Amazon.latitude), len(extreme_Amazon.longitude)))\n",
    "contr_mark_map3 = np.copy(FID_maxcontr_map3)\n",
    "\n",
    "for i in range(len(extreme_Amazon.latitude)):\n",
    "    for j in range(len(extreme_Amazon.longitude)):\n",
    "\n",
    "        # return the FID that accounts for most extreme precipitation when it occurred\n",
    "        idx = np.argmax(extreme_Amazon.isel(latitude=i, longitude=j).FID_p99th.values) # 0-15\n",
    "        FID_maxcontr_map3[i,j] = idx+1 # mark FID on the grid point, 1-16\n",
    "        \n",
    "        # mark if that FID accounts for more than 50% \n",
    "        if np.max(extreme_Amazon.isel(latitude=i, longitude=j).FID_p99th.values) >= 0.5:\n",
    "            contr_mark_map3[i,j] = 1\n",
    "        # mark if that FID accounts for more than 75%\n",
    "        elif np.max(extreme_Amazon.isel(latitude=i, longitude=j).FID_p99th.values) >= 0.75:\n",
    "            contr_mark_map3[i,j] = 2\n",
    "        else:\n",
    "            contr_mark_map3[i,j] = 0"
   ]
  },
  {
   "cell_type": "code",
   "execution_count": null,
   "id": "479a799e",
   "metadata": {},
   "outputs": [],
   "source": [
    "fig, ax = plt.subplots(1,1,figsize=(8,6),subplot_kw={'projection': ccrs.PlateCarree()})\n",
    "ax.coastlines(color='k')\n",
    "ax.add_feature(cfeat.LAND,zorder=1,edgecolor='gray',facecolor='w') # maskout LAND\n",
    "\n",
    "cf = ax.pcolormesh(extreme_Amazon.longitude, extreme_Amazon.latitude\n",
    "                 , FID_maxcontr_map3, vmin=1, vmax=17, cmap=newcmp)\n",
    "cbar = plt.colorbar(cf, ax=ax, shrink=0.6, pad=0.01)\n",
    "cbar.set_label('feature indicator')\n",
    "cbar.set_ticks(np.arange(1.5,17.5,1))\n",
    "cbar.set_ticklabels(FID_label)\n",
    "\n",
    "gl = ax.gridlines(crs=ccrs.PlateCarree(), draw_labels=True,\n",
    "                  linewidth=1, color='grey', alpha=0.4, linestyle=':')\n",
    "gl.xlabels_top = False\n",
    "gl.ylabels_right = False\n",
    "gl.xformatter = LONGITUDE_FORMATTER\n",
    "gl.yformatter = LATITUDE_FORMATTER\n",
    "\n",
    "ax.set_title('Feature indicator accounting for 99th extreme rainfall \\n Amazon (82W-34W, 22S-12N)',fontsize=10)"
   ]
  },
  {
   "cell_type": "code",
   "execution_count": null,
   "id": "1542e237",
   "metadata": {},
   "outputs": [],
   "source": [
    "extreme_MT = extreme_precip_association(lon_bounds=(95,145), lat_bounds=(-10,10), area_name='Maritime_Conti')"
   ]
  },
  {
   "cell_type": "code",
   "execution_count": null,
   "id": "64de8d96",
   "metadata": {},
   "outputs": [],
   "source": [
    "FID_maxcontr_map4 = np.zeros((len(extreme_MT.latitude), len(extreme_MT.longitude)))\n",
    "contr_mark_map4 = np.copy(FID_maxcontr_map4)\n",
    "\n",
    "for i in range(len(extreme_MT.latitude)):\n",
    "    for j in range(len(extreme_MT.longitude)):\n",
    "\n",
    "        # return the FID that accounts for most extreme precipitation when it occurred\n",
    "        idx = np.argmax(extreme_MT.isel(latitude=i, longitude=j).FID_p99th.values)\n",
    "        FID_maxcontr_map4[i,j] = idx+1 # mark FID on the grid point\n",
    "        \n",
    "        # mark if that FID accounts for more than 50% \n",
    "        if np.max(extreme_MT.isel(latitude=i, longitude=j).FID_p99th.values) >= 0.5:\n",
    "            contr_mark_map4[i,j] = 1\n",
    "        # mark if that FID accounts for more than 75%\n",
    "        elif np.max(extreme_MT.isel(latitude=i, longitude=j).FID_p99th.values) >= 0.75:\n",
    "            contr_mark_map4[i,j] = 2\n",
    "        else:\n",
    "            contr_mark_map4[i,j] = 0"
   ]
  },
  {
   "cell_type": "code",
   "execution_count": null,
   "id": "41eb933e",
   "metadata": {},
   "outputs": [],
   "source": [
    "fig, ax = plt.subplots(1,1,figsize=(8,6),subplot_kw={'projection': ccrs.PlateCarree()})\n",
    "ax.coastlines(color='k')\n",
    "#ax.add_feature(cfeat.STATES,edgecolor='k',linewidth=0.5)\n",
    "#ax.add_feature(cfeat.RIVERS,edgecolor='b',linewidth=0.5)\n",
    "ax.add_feature(cfeat.LAND,zorder=1,edgecolor='gray',facecolor='w') # maskout LAND\n",
    "\n",
    "cf = ax.pcolormesh(extreme_MT.longitude, extreme_MT.latitude\n",
    "                 , FID_maxcontr_map4, vmin=1, vmax=17, cmap=newcmp)\n",
    "cbar = plt.colorbar(cf, ax=ax, shrink=0.4, pad=0.01)\n",
    "cbar.set_label('feature indicator')\n",
    "cbar.set_ticks(np.arange(1.5,17.5,1))\n",
    "cbar.set_ticklabels(FID_label)\n",
    "\n",
    "gl = ax.gridlines(crs=ccrs.PlateCarree(), draw_labels=True,\n",
    "                  linewidth=1, color='grey', alpha=0.4, linestyle=':')\n",
    "gl.xlabels_top = False\n",
    "gl.ylabels_right = False\n",
    "gl.xformatter = LONGITUDE_FORMATTER\n",
    "gl.yformatter = LATITUDE_FORMATTER\n",
    "\n",
    "ax.set_title('Feature indicator accounting for 99th extreme rainfall \\n Maritime (95E-145E, 10S-10N)',fontsize=10)"
   ]
  },
  {
   "cell_type": "code",
   "execution_count": null,
   "id": "c0dc5de4",
   "metadata": {},
   "outputs": [],
   "source": [
    "# open ocean - should have MCS right?\n",
    "extreme_INDO = extreme_precip_association(lon_bounds=(60,90), lat_bounds=(-10,10), area_name='Indian Ocean')"
   ]
  },
  {
   "cell_type": "code",
   "execution_count": null,
   "id": "355c408e",
   "metadata": {},
   "outputs": [],
   "source": [
    "FID_maxcontr_map5 = np.zeros((len(extreme_INDO.latitude), len(extreme_INDO.longitude)))*np.nan\n",
    "contr_mark_map5 = np.copy(FID_maxcontr_map5)\n",
    "\n",
    "for i in range(len(extreme_INDO.latitude)):\n",
    "    for j in range(len(extreme_INDO.longitude)):\n",
    "\n",
    "        # return the FID that accounts for most extreme precipitation when it occurred\n",
    "        idx = np.argmax(extreme_INDO.isel(latitude=i, longitude=j).FID_p99th.values)\n",
    "        FID_maxcontr_map5[i,j] = idx+1 # mark FID on the grid point"
   ]
  },
  {
   "cell_type": "code",
   "execution_count": null,
   "id": "1c700820",
   "metadata": {},
   "outputs": [],
   "source": [
    "fig, ax = plt.subplots(1,1,figsize=(8,6),subplot_kw={'projection': ccrs.PlateCarree()})\n",
    "ax.coastlines(color='k')\n",
    "ax.add_feature(cfeat.LAND,zorder=1,edgecolor='gray',facecolor='w') # maskout LAND\n",
    "\n",
    "cf = ax.pcolormesh(extreme_INDO.longitude, extreme_INDO.latitude\n",
    "                 , FID_maxcontr_map5, vmin=1, vmax=17, cmap=newcmp)\n",
    "cbar = plt.colorbar(cf, ax=ax, shrink=0.4, pad=0.01)\n",
    "cbar.set_label('feature indicator')\n",
    "cbar.set_ticks(np.arange(1.5,17.5,1))\n",
    "cbar.set_ticklabels(FID_label)\n",
    "\n",
    "gl = ax.gridlines(crs=ccrs.PlateCarree(), draw_labels=True,\n",
    "                  linewidth=1, color='grey', alpha=0.4, linestyle=':')\n",
    "gl.xlabels_top = False\n",
    "gl.ylabels_right = False\n",
    "gl.xformatter = LONGITUDE_FORMATTER\n",
    "gl.yformatter = LATITUDE_FORMATTER\n",
    "\n",
    "ax.set_title('Feature indicator accounting for 99th extreme rainfall \\n Indian Ocean (60E-90E, 10S-10N)',fontsize=10)"
   ]
  },
  {
   "cell_type": "code",
   "execution_count": null,
   "id": "ca462ce1",
   "metadata": {},
   "outputs": [],
   "source": []
  },
  {
   "cell_type": "markdown",
   "id": "c2b8cac8",
   "metadata": {},
   "source": [
    "### screening out days of extremes and see if MCS really coocurrence with AR over the NW US"
   ]
  },
  {
   "cell_type": "code",
   "execution_count": null,
   "id": "60df4977",
   "metadata": {},
   "outputs": [],
   "source": [
    "p99th_NWUS = extreme_NW_UScoast.p99th"
   ]
  },
  {
   "cell_type": "code",
   "execution_count": null,
   "id": "03ecce5d",
   "metadata": {},
   "outputs": [],
   "source": [
    "prec_NWUS = data_FP_merged.precipitationCal.sel(longitude=slice(360-125,360-115), latitude=slice(30,50))"
   ]
  },
  {
   "cell_type": "markdown",
   "id": "8b965e10",
   "metadata": {},
   "source": [
    "### case study: Janurary 9th, 2017 CA floods"
   ]
  },
  {
   "cell_type": "code",
   "execution_count": null,
   "id": "9543228e",
   "metadata": {},
   "outputs": [],
   "source": [
    "Feature_comb_case = Feature_comb_xr.sel(time=slice(datetime(2017,1,8,0), datetime(2017,1,9,0)),\n",
    "                                        longitude=slice(360-125,360-115), latitude=slice(30,50))\n",
    "prec_case = data_FP_merged.precipitationCal.sel(time=slice(datetime(2017,1,8,0), datetime(2017,1,9,0)),\n",
    "                                            longitude=slice(360-125,360-115), latitude=slice(30,50))"
   ]
  },
  {
   "cell_type": "code",
   "execution_count": null,
   "id": "2836d1a1",
   "metadata": {},
   "outputs": [],
   "source": [
    "cmap_label = plt.get_cmap('tab20b', 16)"
   ]
  },
  {
   "cell_type": "code",
   "execution_count": null,
   "id": "6e1ac4ae",
   "metadata": {},
   "outputs": [],
   "source": [
    "newcolors = cmap_label(np.linspace(0, 1, 16))\n",
    "blue = np.array([0, 0, 0.8, 1])\n",
    "red = np.array([0.8, 0, 0, 1])\n",
    "newcolors[1, :] = blue\n",
    "newcolors[3, :] = red\n",
    "newcmp = ListedColormap(newcolors)"
   ]
  },
  {
   "cell_type": "code",
   "execution_count": null,
   "id": "4f4e2b34",
   "metadata": {},
   "outputs": [],
   "source": [
    "fig, ax = plt.subplots(1,5,figsize=(15,6), subplot_kw={'projection': ccrs.PlateCarree()})\n",
    "for t in range(5):\n",
    "    \n",
    "    ax[t].coastlines(color='grey')\n",
    "    ax[t].add_feature(cfeat.STATES,edgecolor='grey',linewidth=0.5)\n",
    "    ax[t].add_feature(cfeat.LAND,zorder=1,edgecolor='gray',facecolor='w') # maskout LAND\n",
    "\n",
    "    tmp = Feature_comb_case.feat_comb_label.isel(time=t)\n",
    "    tmp = tmp.where(tmp > 0, np.nan)\n",
    "    \n",
    "    cp = ax[t].pcolormesh(Feature_comb_case.longitude, Feature_comb_case.latitude,\n",
    "                        tmp, vmin=1, vmax=17, cmap=newcmp)\n",
    "    cbar = plt.colorbar(cp, ax=ax[t], shrink=0.5, pad=0.02)\n",
    "    cbar.set_ticks(np.arange(1.5,17.5,1))\n",
    "    cbar.set_ticklabels(FID_label)\n",
    "    \n",
    "    # add GPM contour\n",
    "    cf = ax[t].contour(prec_case.longitude, prec_case.latitude,\n",
    "                        prec_case.isel(time=t), levels=[1,3,5,10,15,20], colors=['k'],\n",
    "                        linewidths=1)\n",
    "    ax[t].clabel(cf, cf.levels, inline=True, fontsize=8, colors=['k'])\n",
    "    \n",
    "    gl = ax[t].gridlines(crs=ccrs.PlateCarree(), draw_labels=True,\n",
    "                  linewidth=1, color='grey', alpha=0.4, linestyle=':')\n",
    "    gl.xlabels_top = False\n",
    "    gl.ylabels_right = False\n",
    "    gl.xformatter = LONGITUDE_FORMATTER\n",
    "    gl.yformatter = LATITUDE_FORMATTER\n",
    "    \n",
    "    ax[t].set_title(str(prec_case.isel(time=t).time.values)[:-10])\n",
    "\n",
    "plt.tight_layout()"
   ]
  },
  {
   "cell_type": "code",
   "execution_count": null,
   "id": "29f39d8e",
   "metadata": {},
   "outputs": [],
   "source": [
    "Feature_comb_case2 = Feature_comb_xr.sel(time=slice(datetime(2017,1,18,0), datetime(2017,1,19,0)),\n",
    "                                        longitude=slice(360-125,360-115), latitude=slice(30,50))\n",
    "prec_case2 = data_FP_merged.precipitationCal.sel(time=slice(datetime(2017,1,18,0), datetime(2017,1,19,0)),\n",
    "                                            longitude=slice(360-125,360-115), latitude=slice(30,50))"
   ]
  },
  {
   "cell_type": "code",
   "execution_count": null,
   "id": "efa3da07",
   "metadata": {},
   "outputs": [],
   "source": [
    "fig, ax = plt.subplots(1,5,figsize=(15,6), subplot_kw={'projection': ccrs.PlateCarree()})\n",
    "for t in range(5):\n",
    "    \n",
    "    ax[t].coastlines(color='grey')\n",
    "    ax[t].add_feature(cfeat.STATES,edgecolor='grey',linewidth=0.5)\n",
    "    ax[t].add_feature(cfeat.LAND,zorder=1,edgecolor='gray',facecolor='w') # maskout LAND\n",
    "\n",
    "    tmp = Feature_comb_case2.feat_comb_label.isel(time=t)\n",
    "    tmp = tmp.where(tmp > 0, np.nan)\n",
    "    \n",
    "    cp = ax[t].pcolormesh(Feature_comb_case2.longitude, Feature_comb_case2.latitude,\n",
    "                        tmp, vmin=1, vmax=17, cmap=newcmp)\n",
    "    cbar = plt.colorbar(cp, ax=ax[t], shrink=0.5, pad=0.02)\n",
    "    cbar.set_ticks(np.arange(1.5,17.5,1))\n",
    "    cbar.set_ticklabels(FID_label)\n",
    "    \n",
    "    # add GPM contour\n",
    "    cf = ax[t].contour(prec_case2.longitude, prec_case2.latitude,\n",
    "                        prec_case2.isel(time=t), levels=[1,3,5,10,15,20], colors=['k'],\n",
    "                        linewidths=1)\n",
    "    ax[t].clabel(cf, cf.levels, inline=True, fontsize=8, colors=['k'])\n",
    "    \n",
    "    gl = ax[t].gridlines(crs=ccrs.PlateCarree(), draw_labels=True,\n",
    "                  linewidth=1, color='grey', alpha=0.4, linestyle=':')\n",
    "    gl.xlabels_top = False\n",
    "    gl.ylabels_right = False\n",
    "    gl.xformatter = LONGITUDE_FORMATTER\n",
    "    gl.yformatter = LATITUDE_FORMATTER\n",
    "    \n",
    "    ax[t].set_title(str(prec_case2.isel(time=t).time.values)[:-10])\n",
    "\n",
    "plt.tight_layout()"
   ]
  },
  {
   "cell_type": "code",
   "execution_count": null,
   "id": "e020380d",
   "metadata": {},
   "outputs": [],
   "source": []
  }
 ],
 "metadata": {
  "kernelspec": {
   "display_name": "Python 3 (ipykernel)",
   "language": "python",
   "name": "python3"
  },
  "language_info": {
   "codemirror_mode": {
    "name": "ipython",
    "version": 3
   },
   "file_extension": ".py",
   "mimetype": "text/x-python",
   "name": "python",
   "nbconvert_exporter": "python",
   "pygments_lexer": "ipython3",
   "version": "3.9.17"
  }
 },
 "nbformat": 4,
 "nbformat_minor": 5
}
